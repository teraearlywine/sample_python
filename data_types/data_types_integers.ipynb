{
 "cells": [
  {
   "cell_type": "markdown",
   "metadata": {},
   "source": [
    "# Integers\n",
    "\n",
    "Integers can be negative or positive, and can be used for quite a bit of different day to day operations"
   ]
  },
  {
   "cell_type": "markdown",
   "metadata": {},
   "source": [
    "The following cell contains something similar to the door dash problem I just botched. I wanted to try to recreate and solve for why I messed up (to hopefully learn and not repeat the same mistake next time). What I didn't know going into the interview, explicitly, was how to sum a range of integer values or how to use a specific window size algorithmicly. The following bullet points are things to keep in mind / practice \n",
    "\n",
    "Key things to keep in mind: \n",
    "+ window_size variable is set outside the for loop because it's a constant\n",
    "+ empty_list ultimately will contain the surmised results \n",
    "+ `index <= len(items) - window_size` checks if the current index is within the range where a complete window can be formed. \n",
    "+ `items[index:index + window_size]` creates a sublist containing the values within the current window"
   ]
  },
  {
   "cell_type": "code",
   "execution_count": 14,
   "metadata": {},
   "outputs": [
    {
     "name": "stdout",
     "output_type": "stream",
     "text": [
      "[1145, 1162, 1219, 290]\n"
     ]
    }
   ],
   "source": [
    "# Using a for loop, print out all numbers in the list item\n",
    "# Sum the total value for every rolling 7 days. \n",
    "\n",
    "items = [4, 12, 982, 123, 5, 0, 19, 21, 69, 53]\n",
    "window_size = 7\n",
    "\n",
    "empty_list = []\n",
    "\n",
    "for item in enumerate(items): \n",
    "    index, value = item \n",
    "    if index <= (len(items) - window_size): \n",
    "        window_sum = sum(items[index:index + window_size])\n",
    "        empty_list.append(window_sum)\n",
    "print(empty_list)"
   ]
  }
 ],
 "metadata": {
  "kernelspec": {
   "display_name": ".venv",
   "language": "python",
   "name": "python3"
  },
  "language_info": {
   "codemirror_mode": {
    "name": "ipython",
    "version": 3
   },
   "file_extension": ".py",
   "mimetype": "text/x-python",
   "name": "python",
   "nbconvert_exporter": "python",
   "pygments_lexer": "ipython3",
   "version": "3.12.4"
  }
 },
 "nbformat": 4,
 "nbformat_minor": 2
}
