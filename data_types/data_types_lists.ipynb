{
 "cells": [
  {
   "cell_type": "markdown",
   "metadata": {},
   "source": [
    "LIST DATA TYPE\n",
    "\n",
    "Studying containers...\n",
    "Strings, lists and tuples are iterable and have an index assigned.\n",
    "Practicing different list comprehension and iterations\n",
    "\n",
    "https://docs.python.org/3/tutorial/datastructures.html"
   ]
  },
  {
   "cell_type": "code",
   "metadata": {
    "ExecuteTime": {
     "end_time": "2024-06-23T18:39:29.142081Z",
     "start_time": "2024-06-23T18:39:29.139749Z"
    }
   },
   "source": [
    "\n",
    "# Used AI to generate a list of 20 beers to practice iterating over\n",
    "beers = [ \n",
    "    \"Heineken\", \"Guinness\", \"Corona Extra\", \"Budweiser\", \"Stella Artois\", \"Blue Moon\", \n",
    "    \"Sierra Nevada Pale Ale\", \"Samuel Adams Boston Lager\",\n",
    "    \"Coors Light\", \"Pabst Blue Ribbon\", \"Miller Lite\", \"New Belgium Fat Tire\", \n",
    "    \"Dos Equis\", \"Modelo Especial\", \"Beck's\", \"Hoegaarden\", \n",
    "    \"Lagunitas IPA\", \"Peroni\", \"Amstel Light\", \"Carlsberg\"\n",
    "]"
   ],
   "outputs": [],
   "execution_count": 7
  },
  {
   "cell_type": "code",
   "metadata": {
    "ExecuteTime": {
     "end_time": "2024-06-23T18:39:29.145113Z",
     "start_time": "2024-06-23T18:39:29.143271Z"
    }
   },
   "source": [
    "\n",
    "# Sorted leaves the prior list unchanged and creates a new object\n",
    "beers_sorted = sorted(beers) \n",
    "print(beers_sorted)"
   ],
   "outputs": [
    {
     "name": "stdout",
     "output_type": "stream",
     "text": [
      "['Amstel Light', \"Beck's\", 'Blue Moon', 'Budweiser', 'Carlsberg', 'Coors Light', 'Corona Extra', 'Dos Equis', 'Guinness', 'Heineken', 'Hoegaarden', 'Lagunitas IPA', 'Miller Lite', 'Modelo Especial', 'New Belgium Fat Tire', 'Pabst Blue Ribbon', 'Peroni', 'Samuel Adams Boston Lager', 'Sierra Nevada Pale Ale', 'Stella Artois']\n"
     ]
    }
   ],
   "execution_count": 8
  },
  {
   "cell_type": "code",
   "metadata": {
    "ExecuteTime": {
     "end_time": "2024-06-23T18:39:29.149285Z",
     "start_time": "2024-06-23T18:39:29.146978Z"
    }
   },
   "source": [
    "new_beers = beers_sorted.copy() \n",
    "\n",
    "# Implementing a new queue\n",
    "from collections import deque\n",
    "\n",
    "queue = deque(new_beers)\n",
    "queue.append(\"Hoffbrau\")        # New beer is added to the list \n",
    "queue.append(\"Hen House IPA\")   # Another new beer is added to the list\n",
    "\n",
    "queue.popleft()                 # First beer in the list is removed\n",
    "queue.popleft()                 # Second beer in the list is removed\n",
    "sorted_beers = sorted(queue)    # Sort & assigned new variable\n",
    "print(sorted_beers)             # Return results, you can see new beers added.\n",
    "\n",
    " # Check to see if new queue is still 20 beers\n",
    "assert len(sorted_beers) == len(queue), \"New list must equal original list length\""
   ],
   "outputs": [
    {
     "name": "stdout",
     "output_type": "stream",
     "text": [
      "['Blue Moon', 'Budweiser', 'Carlsberg', 'Coors Light', 'Corona Extra', 'Dos Equis', 'Guinness', 'Heineken', 'Hen House IPA', 'Hoegaarden', 'Hoffbrau', 'Lagunitas IPA', 'Miller Lite', 'Modelo Especial', 'New Belgium Fat Tire', 'Pabst Blue Ribbon', 'Peroni', 'Samuel Adams Boston Lager', 'Sierra Nevada Pale Ale', 'Stella Artois']\n"
     ]
    }
   ],
   "execution_count": 9
  },
  {
   "metadata": {},
   "cell_type": "markdown",
   "source": [
    "# List Practice\n",
    "\n",
    "Comprehension: \n",
    "\n",
    "Working on different methods to iterate over a list. \n",
    "List comprehensions provide a concise way to create lists. Common applications are to make new lists where each element is the result \n",
    "of some operations applied to each member of another sequence or iterable, or to create a subsequence of those elements that satisfy a certain condition.\n",
    "\n",
    "Linked Lists: \n",
    "A linked list is a type of linear data structure, similar to an array. It's a collection of nodes that are linked to each other. A node contains two things: First, the data. Second, the link connecting it to another node. \n",
    " \n",
    "A linked list consists of nodes and nodes have two elements i.e. data and a reference to another node. \n",
    "\n"
   ]
  }
 ],
 "metadata": {
  "kernelspec": {
   "display_name": ".venv",
   "language": "python",
   "name": "python3"
  },
  "language_info": {
   "codemirror_mode": {
    "name": "ipython",
    "version": 3
   },
   "file_extension": ".py",
   "mimetype": "text/x-python",
   "name": "python",
   "nbconvert_exporter": "python",
   "pygments_lexer": "ipython3",
   "version": "3.12.4"
  }
 },
 "nbformat": 4,
 "nbformat_minor": 2
}
